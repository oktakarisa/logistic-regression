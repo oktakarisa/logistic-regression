{
  "cells": [
    {
      "cell_type": "markdown",
      "metadata": {},
      "source": [
        "# Logistic Regression Assignment - Complete Demonstration\n",
        "\n",
        "This notebook demonstrates the complete implementation of Logistic Regression from scratch.\n",
        "\n",
        "## Assignment Overview\n",
        "- **Problem 1**: Implement hypothesis function (sigmoid)\n",
        "- **Problem 2**: Implement gradient descent\n",
        "- **Problem 3**: Implement prediction methods\n",
        "- **Problem 4**: Implement loss function with regularization\n",
        "- **Problem 5**: Train and evaluate on iris dataset\n",
        "- **Problem 6**: Plot learning curves\n",
        "- **Problem 7**: Visualize decision boundaries\n",
        "- **Problem 8**: Save/load weights\n"
      ]
    },
    {
      "cell_type": "code",
      "execution_count": null,
      "metadata": {},
      "outputs": [],
      "source": [
        "# Import required libraries\n",
        "import numpy as np\n",
        "import matplotlib.pyplot as plt\n",
        "from sklearn.datasets import load_iris\n",
        "from sklearn.model_selection import train_test_split\n",
        "from sklearn.preprocessing import StandardScaler\n",
        "from sklearn.linear_model import LogisticRegression\n",
        "from sklearn.metrics import accuracy_score, precision_score, recall_score, confusion_matrix, classification_report\n",
        "from scratch_logistic_regression import ScratchLogisticRegression\n",
        "\n",
        "print(\"All libraries imported successfully!\")\n"
      ]
    },
    {
      "cell_type": "markdown",
      "metadata": {},
      "source": [
        "## 1. Load and Prepare Data\n",
        "\n",
        "We'll use the Iris dataset and perform binary classification between Versicolor (class 1) and Virginica (class 2).\n"
      ]
    },
    {
      "cell_type": "code",
      "execution_count": null,
      "metadata": {},
      "outputs": [],
      "source": [
        "# Load iris dataset\n",
        "iris = load_iris()\n",
        "X = iris.data\n",
        "y = iris.target\n",
        "\n",
        "# Binary classification: versicolor (1) vs virginica (2)\n",
        "mask = (y == 1) | (y == 2)\n",
        "X = X[mask]\n",
        "y = y[mask]\n",
        "\n",
        "# Convert labels to 0 and 1\n",
        "y = (y == 2).astype(int)\n",
        "\n",
        "print(f\"Dataset shape: {X.shape}\")\n",
        "print(f\"Number of samples: {len(y)}\")\n",
        "print(f\"Class distribution: {np.bincount(y)}\")\n",
        "print(f\"Feature names: {iris.feature_names}\")\n"
      ]
    },
    {
      "cell_type": "code",
      "execution_count": null,
      "metadata": {},
      "outputs": [],
      "source": [
        "# Split data into train and test sets\n",
        "X_train, X_test, y_train, y_test = train_test_split(\n",
        "    X, y, test_size=0.3, random_state=42, stratify=y\n",
        ")\n",
        "\n",
        "# Standardize features\n",
        "scaler = StandardScaler()\n",
        "X_train_scaled = scaler.fit_transform(X_train)\n",
        "X_test_scaled = scaler.transform(X_test)\n",
        "\n",
        "print(f\"Training set: {X_train_scaled.shape}\")\n",
        "print(f\"Test set: {X_test_scaled.shape}\")\n"
      ]
    },
    {
      "cell_type": "markdown",
      "metadata": {},
      "source": [
        "## 2. Problem 5: Train Scratch Implementation\n",
        "\n",
        "Train our custom logistic regression implementation.\n"
      ]
    },
    {
      "cell_type": "code",
      "execution_count": null,
      "metadata": {},
      "outputs": [],
      "source": [
        "# Split training data for validation\n",
        "X_train_split, X_val_split, y_train_split, y_val_split = train_test_split(\n",
        "    X_train_scaled, y_train, test_size=0.2, random_state=42, stratify=y_train\n",
        ")\n",
        "\n",
        "# Initialize and train scratch model\n",
        "scratch_model = ScratchLogisticRegression(\n",
        "    num_iter=1000,\n",
        "    lr=0.1,\n",
        "    bias=True,\n",
        "    verbose=True\n",
        ")\n",
        "\n",
        "scratch_model.fit(X_train_split, y_train_split, X_val_split, y_val_split, lambda_reg=0.01)\n",
        "\n",
        "print(\"\\nModel training complete!\")\n"
      ]
    },
    {
      "cell_type": "code",
      "execution_count": null,
      "metadata": {},
      "outputs": [],
      "source": [
        "# Evaluate scratch model\n",
        "y_pred_scratch = scratch_model.predict(X_test_scaled)\n",
        "y_proba_scratch = scratch_model.predict_proba(X_test_scaled)\n",
        "\n",
        "print(\"Scratch Model Performance:\")\n",
        "print(f\"Accuracy:  {accuracy_score(y_test, y_pred_scratch):.4f}\")\n",
        "print(f\"Precision: {precision_score(y_test, y_pred_scratch):.4f}\")\n",
        "print(f\"Recall:    {recall_score(y_test, y_pred_scratch):.4f}\")\n",
        "print(\"\\nConfusion Matrix:\")\n",
        "print(confusion_matrix(y_test, y_pred_scratch))\n",
        "print(\"\\nClassification Report:\")\n",
        "print(classification_report(y_test, y_pred_scratch, target_names=['Versicolor', 'Virginica']))\n"
      ]
    },
    {
      "cell_type": "markdown",
      "metadata": {},
      "source": [
        "## 3. Compare with Scikit-learn Implementation\n"
      ]
    },
    {
      "cell_type": "code",
      "execution_count": null,
      "metadata": {},
      "outputs": [],
      "source": [
        "# Train scikit-learn model\n",
        "sklearn_model = LogisticRegression(max_iter=1000, random_state=42)\n",
        "sklearn_model.fit(X_train_scaled, y_train)\n",
        "\n",
        "# Evaluate sklearn model\n",
        "y_pred_sklearn = sklearn_model.predict(X_test_scaled)\n",
        "\n",
        "print(\"Scikit-learn Model Performance:\")\n",
        "print(f\"Accuracy:  {accuracy_score(y_test, y_pred_sklearn):.4f}\")\n",
        "print(f\"Precision: {precision_score(y_test, y_pred_sklearn):.4f}\")\n",
        "print(f\"Recall:    {recall_score(y_test, y_pred_sklearn):.4f}\")\n",
        "\n",
        "# Compare\n",
        "print(\"\\n\" + \"=\"*50)\n",
        "print(\"Comparison:\")\n",
        "print(f\"Accuracy difference: {abs(accuracy_score(y_test, y_pred_scratch) - accuracy_score(y_test, y_pred_sklearn)):.4f}\")\n"
      ]
    },
    {
      "cell_type": "markdown",
      "metadata": {},
      "source": [
        "## 4. Problem 6: Plot Learning Curve\n"
      ]
    },
    {
      "cell_type": "code",
      "execution_count": null,
      "metadata": {},
      "outputs": [],
      "source": [
        "# Plot learning curve\n",
        "plt.figure(figsize=(10, 6))\n",
        "plt.plot(range(scratch_model.iter), scratch_model.loss, label='Training Loss', linewidth=2)\n",
        "plt.plot(range(scratch_model.iter), scratch_model.val_loss, label='Validation Loss', linewidth=2)\n",
        "plt.xlabel('Iteration', fontsize=12)\n",
        "plt.ylabel('Loss', fontsize=12)\n",
        "plt.title('Learning Curve: Loss vs Iteration', fontsize=14, fontweight='bold')\n",
        "plt.legend(fontsize=11)\n",
        "plt.grid(True, alpha=0.3)\n",
        "plt.tight_layout()\n",
        "plt.show()\n",
        "\n",
        "print(f\"Final training loss: {scratch_model.loss[-1]:.6f}\")\n",
        "print(f\"Final validation loss: {scratch_model.val_loss[-1]:.6f}\")\n"
      ]
    },
    {
      "cell_type": "markdown",
      "metadata": {},
      "source": [
        "## 5. Problem 7: Visualize Decision Boundary\n",
        "\n",
        "We'll train a model using only 2 features (Sepal Width and Petal Length) for 2D visualization.\n"
      ]
    },
    {
      "cell_type": "code",
      "execution_count": null,
      "metadata": {},
      "outputs": [],
      "source": [
        "# Prepare 2D dataset (using sepal width and petal length)\n",
        "X_2d = X[:, [1, 2]]\n",
        "X_train_2d, X_test_2d, y_train_2d, y_test_2d = train_test_split(\n",
        "    X_2d, y, test_size=0.3, random_state=42, stratify=y\n",
        ")\n",
        "\n",
        "# Standardize\n",
        "scaler_2d = StandardScaler()\n",
        "X_train_2d_scaled = scaler_2d.fit_transform(X_train_2d)\n",
        "X_test_2d_scaled = scaler_2d.transform(X_test_2d)\n",
        "\n",
        "# Split for validation\n",
        "X_train_2d_split, X_val_2d_split, y_train_2d_split, y_val_2d_split = train_test_split(\n",
        "    X_train_2d_scaled, y_train_2d, test_size=0.2, random_state=42, stratify=y_train_2d\n",
        ")\n",
        "\n",
        "# Train 2D model\n",
        "model_2d = ScratchLogisticRegression(\n",
        "    num_iter=1000,\n",
        "    lr=0.1,\n",
        "    bias=True,\n",
        "    verbose=False\n",
        ")\n",
        "\n",
        "model_2d.fit(X_train_2d_split, y_train_2d_split, X_val_2d_split, y_val_2d_split)\n",
        "\n",
        "print(\"2D model trained successfully!\")\n"
      ]
    },
    {
      "cell_type": "code",
      "execution_count": null,
      "metadata": {},
      "outputs": [],
      "source": [
        "# Plot decision boundary\n",
        "def plot_decision_boundary(model, X, y):\n",
        "    # Create mesh grid\n",
        "    h = 0.02\n",
        "    x_min, x_max = X[:, 0].min() - 1, X[:, 0].max() + 1\n",
        "    y_min, y_max = X[:, 1].min() - 1, X[:, 1].max() + 1\n",
        "    xx, yy = np.meshgrid(np.arange(x_min, x_max, h),\n",
        "                         np.arange(y_min, y_max, h))\n",
        "    \n",
        "    # Predict for each point in the mesh\n",
        "    Z = model.predict(np.c_[xx.ravel(), yy.ravel()])\n",
        "    Z = Z.reshape(xx.shape)\n",
        "    \n",
        "    # Plot\n",
        "    plt.figure(figsize=(10, 8))\n",
        "    plt.contourf(xx, yy, Z, alpha=0.4, cmap='RdYlBu')\n",
        "    scatter = plt.scatter(X[:, 0], X[:, 1], c=y, s=100, edgecolors='black', \n",
        "                         linewidth=1.5, cmap='RdYlBu', alpha=0.8)\n",
        "    plt.xlabel('Sepal Width (standardized)', fontsize=12)\n",
        "    plt.ylabel('Petal Length (standardized)', fontsize=12)\n",
        "    plt.title('Decision Boundary Visualization', fontsize=14, fontweight='bold')\n",
        "    plt.colorbar(scatter, label='Class')\n",
        "    plt.grid(True, alpha=0.3)\n",
        "    plt.tight_layout()\n",
        "    plt.show()\n",
        "\n",
        "# Combine train and test for visualization\n",
        "X_all_2d = np.vstack([X_train_2d_scaled, X_test_2d_scaled])\n",
        "y_all_2d = np.hstack([y_train_2d, y_test_2d])\n",
        "\n",
        "plot_decision_boundary(model_2d, X_all_2d, y_all_2d)\n"
      ]
    },
    {
      "cell_type": "markdown",
      "metadata": {},
      "source": [
        "## 6. Problem 8: Save and Load Weights\n"
      ]
    },
    {
      "cell_type": "code",
      "execution_count": null,
      "metadata": {},
      "outputs": [],
      "source": [
        "# Save weights using np.savez\n",
        "scratch_model.save_weights('models/model_weights')\n",
        "\n",
        "# Save complete model using pickle\n",
        "scratch_model.save_model('models/model_complete.pkl')\n",
        "\n",
        "print(\"\\nOriginal model coefficients (first 3):\")\n",
        "print(scratch_model.coef_[:3])\n"
      ]
    },
    {
      "cell_type": "code",
      "execution_count": null,
      "metadata": {},
      "outputs": [],
      "source": [
        "# Load weights\n",
        "new_model = ScratchLogisticRegression(num_iter=1000, lr=0.1, bias=True, verbose=False)\n",
        "new_model.load_weights('models/model_weights.npz')\n",
        "\n",
        "print(\"\\nLoaded model coefficients (first 3):\")\n",
        "print(new_model.coef_[:3])\n",
        "\n",
        "print(f\"\\nCoefficients match: {np.allclose(scratch_model.coef_, new_model.coef_)}\")\n"
      ]
    },
    {
      "cell_type": "code",
      "execution_count": null,
      "metadata": {},
      "outputs": [],
      "source": [
        "# Load complete model\n",
        "loaded_model = ScratchLogisticRegression.load_model('models/model_complete.pkl')\n",
        "\n",
        "# Test loaded model\n",
        "y_pred_loaded = loaded_model.predict(X_test_scaled)\n",
        "accuracy_loaded = accuracy_score(y_test, y_pred_loaded)\n",
        "\n",
        "print(f\"Loaded model accuracy: {accuracy_loaded:.4f}\")\n",
        "print(f\"Original model accuracy: {accuracy_score(y_test, y_pred_scratch):.4f}\")\n",
        "print(f\"\\nModels produce identical predictions: {np.array_equal(y_pred_scratch, y_pred_loaded)}\")\n"
      ]
    },
    {
      "cell_type": "markdown",
      "metadata": {},
      "source": []
    },
    {
      "cell_type": "code",
      "execution_count": null,
      "metadata": {},
      "outputs": [],
      "source": [
        "# Display learned coefficients\n",
        "print(\"Learned Coefficients:\")\n",
        "print(f\"Bias term: {scratch_model.coef_[0]:.4f}\")\n",
        "print(\"\\nFeature coefficients:\")\n",
        "for i, name in enumerate(iris.feature_names):\n",
        "    print(f\"  {name}: {scratch_model.coef_[i+1]:.4f}\")\n",
        "\n",
        "# Visualize coefficients\n",
        "plt.figure(figsize=(10, 6))\n",
        "plt.bar(range(len(iris.feature_names)), scratch_model.coef_[1:])\n",
        "plt.xlabel('Features', fontsize=12)\n",
        "plt.ylabel('Coefficient Value', fontsize=12)\n",
        "plt.title('Feature Coefficients', fontsize=14, fontweight='bold')\n",
        "plt.xticks(range(len(iris.feature_names)), iris.feature_names, rotation=45)\n",
        "plt.grid(True, alpha=0.3, axis='y')\n",
        "plt.tight_layout()\n",
        "plt.show()\n"
      ]
    },
    {
      "cell_type": "markdown",
      "metadata": {},
      "source": [
        "## 8. Summary\n",
        "\n",
        "This notebook has successfully demonstrated:\n",
        "\n",
        "✅ **Problem 1**: Implemented sigmoid hypothesis function  \n",
        "✅ **Problem 2**: Implemented gradient descent with regularization  \n",
        "✅ **Problem 3**: Implemented predict() and predict_proba() methods  \n",
        "✅ **Problem 4**: Implemented loss function with regularization  \n",
        "✅ **Problem 5**: Trained and evaluated on iris dataset, compared with sklearn  \n",
        "✅ **Problem 6**: Plotted learning curves  \n",
        "✅ **Problem 7**: Visualized decision boundaries  \n",
        "✅ **Problem 8**: Demonstrated weight saving and loading  \n",
        "\n",
        "The scratch implementation performs comparably to scikit-learn's implementation!\n"
      ]
    }
  ],
  "metadata": {
    "language_info": {
      "name": "python"
    }
  },
  "nbformat": 4,
  "nbformat_minor": 2
}
